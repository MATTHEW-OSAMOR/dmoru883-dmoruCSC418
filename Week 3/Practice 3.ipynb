{
 "cells": [
  {
   "cell_type": "code",
   "execution_count": null,
   "id": "d11f28c6-302e-4d40-b55d-12fba4a51fcc",
   "metadata": {},
   "outputs": [],
   "source": [
    "# Import necessary libraries\n",
    "import numpy as np\n",
    "import matplotlib.pyplot as plt\n",
    "import cv2 as cv\n",
    "\n",
    "# Load the image\n",
    "img = cv.imread('Monkey.png', 0)  # Load in grayscale\n",
    "rows, cols = img.shape  # Get image dimensions\n",
    "\n",
    "# Plot the original image\n",
    "plt.subplot(1, 2, 1)\n",
    "plt.title(\"Original\")\n",
    "plt.imshow(img)\n",
    "\n",
    "# Create the rotation matrix (rotate by 30 degrees, scale by 0.6)\n",
    "rotation_matrix = cv.getRotationMatrix2D((cols / 2, rows / 2), 30, 0.6)\n",
    "img_rotation = cv.warpAffine(img, rotation_matrix, (cols, rows))\n",
    "\n",
    "# Plot the rotated image\n",
    "plt.subplot(1, 2, 2)\n",
    "plt.title(\"Rotated Image\")\n",
    "plt.imshow(img_rotation)\n",
    "\n",
    "# Show and save the rotated image\n",
    "cv.imshow('img', img_rotation)\n",
    "cv.imwrite('rotation_out.jpg', img_rotation)\n",
    "\n",
    "cv.waitKey(0)\n",
    "cv.destroyAllWindows()\n"
   ]
  },
  {
   "cell_type": "code",
   "execution_count": null,
   "id": "d2977d57-00a4-4b50-8866-0e9daa5a3e5e",
   "metadata": {},
   "outputs": [],
   "source": []
  }
 ],
 "metadata": {
  "kernelspec": {
   "display_name": "Python [conda env:base] *",
   "language": "python",
   "name": "conda-base-py"
  },
  "language_info": {
   "codemirror_mode": {
    "name": "ipython",
    "version": 3
   },
   "file_extension": ".py",
   "mimetype": "text/x-python",
   "name": "python",
   "nbconvert_exporter": "python",
   "pygments_lexer": "ipython3",
   "version": "3.12.7"
  }
 },
 "nbformat": 4,
 "nbformat_minor": 5
}
