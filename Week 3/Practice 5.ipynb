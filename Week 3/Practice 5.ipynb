{
 "cells": [
  {
   "cell_type": "code",
   "execution_count": null,
   "id": "71c8ee91-9fa0-4b87-ab9b-61cafd9aee01",
   "metadata": {},
   "outputs": [],
   "source": [
    "# Import necessary libraries\n",
    "import numpy as np\n",
    "import matplotlib.pyplot as plt\n",
    "import cv2 as cv\n",
    "\n",
    "# Load the image in grayscale\n",
    "img = cv.imread('Monkey.png', 0)\n",
    "rows, cols = img.shape\n",
    "\n",
    "# Plot the original image\n",
    "plt.subplot(1, 2, 1)\n",
    "plt.title(\"Original\")\n",
    "plt.imshow(img)\n",
    "\n",
    "# Define the shearing matrix\n",
    "M = np.float32([[1, 0.5, 0], \n",
    "                [0, 1, 0], \n",
    "                [0, 0, 1]])\n",
    "\n",
    "# Apply the shearing transformation\n",
    "sheared_img = cv.warpPerspective(img, M, (int(cols * 1.5), int(rows * 1.5)))\n",
    "\n",
    "# Plot the sheared image\n",
    "plt.subplot(1, 2, 2)\n",
    "plt.title(\"Sheared Image X-Axis\")\n",
    "plt.imshow(sheared_img)\n",
    "\n",
    "# Save and display the sheared image\n",
    "cv.imshow('img', sheared_img)\n",
    "cv.waitKey(0)\n",
    "cv.destroyAllWindows()\n"
   ]
  },
  {
   "cell_type": "code",
   "execution_count": null,
   "id": "74bf4f54-af05-43e3-9843-e894e1f3f807",
   "metadata": {},
   "outputs": [],
   "source": []
  }
 ],
 "metadata": {
  "kernelspec": {
   "display_name": "Python [conda env:base] *",
   "language": "python",
   "name": "conda-base-py"
  },
  "language_info": {
   "codemirror_mode": {
    "name": "ipython",
    "version": 3
   },
   "file_extension": ".py",
   "mimetype": "text/x-python",
   "name": "python",
   "nbconvert_exporter": "python",
   "pygments_lexer": "ipython3",
   "version": "3.12.7"
  }
 },
 "nbformat": 4,
 "nbformat_minor": 5
}
