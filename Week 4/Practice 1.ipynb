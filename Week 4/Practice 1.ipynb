{
 "cells": [
  {
   "cell_type": "code",
   "execution_count": null,
   "id": "12a4ea08-f444-452f-bd51-863374c9d633",
   "metadata": {},
   "outputs": [],
   "source": [
    "# Sobel edge detection\n",
    "\n",
    "import cv2\n",
    "import numpy as np\n",
    "\n",
    "# Load the image in grayscale\n",
    "image_path = r\"C:\\Users\\maxos\\CSC418\\dmoru883-dmoruCSC418\\Week 4\\Monkey.png\"\n",
    "image = cv2.imread(image_path, cv2.IMREAD_GRAYSCALE)\n",
    "\n",
    "# Check if the image is loaded correctly\n",
    "if image is None:\n",
    "    print(\"Error: Image not found. Check the file path.\")\n",
    "else:\n",
    "    # Resize image\n",
    "    image = cv2.resize(image, (500, 400))\n",
    "\n",
    "    # Apply Sobel edge detection\n",
    "    sobel_x = cv2.Sobel(image, cv2.CV_64F, 1, 0, ksize=3)  # Detect edges in x-direction\n",
    "    sobel_y = cv2.Sobel(image, cv2.CV_64F, 0, 1, ksize=3)  # Detect edges in y-direction\n",
    "\n",
    "    # Combine the gradient images\n",
    "    sobel_combined = cv2.magnitude(sobel_x, sobel_y)\n",
    "\n",
    "    # Display the original image and the Sobel edge-detected image\n",
    "    cv2.imshow('Original', image)\n",
    "    cv2.imshow('Sobel Edges', np.uint8(sobel_combined))\n",
    "\n",
    "    # Wait for a key press and close all windows\n",
    "    cv2.waitKey(0)\n",
    "    cv2.destroyAllWindows()\n"
   ]
  },
  {
   "cell_type": "code",
   "execution_count": null,
   "id": "3d3b0bcc-b9f2-4706-84a8-501b871b14cc",
   "metadata": {},
   "outputs": [],
   "source": []
  }
 ],
 "metadata": {
  "kernelspec": {
   "display_name": "Python [conda env:base] *",
   "language": "python",
   "name": "conda-base-py"
  },
  "language_info": {
   "codemirror_mode": {
    "name": "ipython",
    "version": 3
   },
   "file_extension": ".py",
   "mimetype": "text/x-python",
   "name": "python",
   "nbconvert_exporter": "python",
   "pygments_lexer": "ipython3",
   "version": "3.12.7"
  }
 },
 "nbformat": 4,
 "nbformat_minor": 5
}
