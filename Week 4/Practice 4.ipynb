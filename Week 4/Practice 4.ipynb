{
 "cells": [
  {
   "cell_type": "code",
   "execution_count": null,
   "id": "0e0da54a-22a4-43a2-b000-a3cb32280a95",
   "metadata": {},
   "outputs": [],
   "source": [
    "# Laplacian Edge Detection\n",
    "\n",
    "import cv2\n",
    "\n",
    "# Load the image\n",
    "image = cv2.imread(r\"C:\\Users\\maxos\\CSC418\\dmoru883-dmoruCSC418\\Week 4\\Goat.png\", cv2.IMREAD_GRAYSCALE)\n",
    "\n",
    "# Resize images\n",
    "image = cv2.resize(image, (400, 400))\n",
    "\n",
    "# Perform Gaussian Blur\n",
    "# image = cv2.GaussianBlur(image, (5, 5), 0)\n",
    "\n",
    "# Apply Laplacian edge detection\n",
    "laplacian = cv2.Laplacian(image, cv2.CV_64F)\n",
    "\n",
    "# Convert the output to an 8-bit image\n",
    "laplacian = cv2.convertScaleAbs(laplacian)\n",
    "\n",
    "# Display the original image and the Laplacian edges\n",
    "cv2.imshow('Original', image)\n",
    "cv2.imshow('Laplacian Edges', laplacian)\n",
    "\n",
    "# Wait for a key press and close all windows\n",
    "cv2.waitKey(0)\n",
    "cv2.destroyAllWindows()\n"
   ]
  },
  {
   "cell_type": "code",
   "execution_count": null,
   "id": "fbf3c901-bcac-4aa8-b93e-c082bafd0a01",
   "metadata": {},
   "outputs": [],
   "source": []
  }
 ],
 "metadata": {
  "kernelspec": {
   "display_name": "Python [conda env:base] *",
   "language": "python",
   "name": "conda-base-py"
  },
  "language_info": {
   "codemirror_mode": {
    "name": "ipython",
    "version": 3
   },
   "file_extension": ".py",
   "mimetype": "text/x-python",
   "name": "python",
   "nbconvert_exporter": "python",
   "pygments_lexer": "ipython3",
   "version": "3.12.7"
  }
 },
 "nbformat": 4,
 "nbformat_minor": 5
}
