{
 "cells": [
  {
   "cell_type": "code",
   "execution_count": null,
   "id": "309250ca-22ec-4ee6-943e-7bbb3dec5b34",
   "metadata": {},
   "outputs": [],
   "source": []
  }
 ],
 "metadata": {
  "kernelspec": {
   "display_name": "",
   "name": ""
  },
  "language_info": {
   "name": ""
  }
 },
 "nbformat": 4,
 "nbformat_minor": 5
}
