{
 "cells": [
  {
   "cell_type": "code",
   "execution_count": 5,
   "id": "6ae441ab-3dc5-4e37-a6be-a9b791426168",
   "metadata": {},
   "outputs": [
    {
     "name": "stdout",
     "output_type": "stream",
     "text": [
      "Before saving image:\n",
      "['.ipynb_checkpoints', 'Practice1.ipynb', 'Practice2.ipynb', 'Practice3.ipynb', 'Practice4.ipynb', 'Screenshot 2024-12-24 235338.png', 'Untitled.ipynb']\n",
      "After saving image:\n",
      "['.ipynb_checkpoints', 'grayImage.jpg', 'Practice1.ipynb', 'Practice2.ipynb', 'Practice3.ipynb', 'Practice4.ipynb', 'Screenshot 2024-12-24 235338.png', 'Untitled.ipynb']\n",
      "Successfully saved\n"
     ]
    }
   ],
   "source": [
    "# Python program to explain cv2.imwrite() method\n",
    "\n",
    "# importing cv2\n",
    "import cv2\n",
    "\n",
    "# importing os module\n",
    "import os\n",
    "\n",
    "# Image path\n",
    "image_path = r'C:\\Users\\maxos\\CSC418\\Screenshot 2024-12-24 235338.png'\n",
    "\n",
    "# Image directory\n",
    "directory = r'C:\\Users\\maxos\\CSC418'\n",
    "\n",
    "# Using cv2.imread() method to read the image\n",
    "img = cv2.imread(image_path, 0)\n",
    "\n",
    "# Change the current directory to specified directory\n",
    "os.chdir(directory)\n",
    "# List files and directories\n",
    "print(\"Before saving image:\")\n",
    "print(os.listdir(directory))\n",
    "\n",
    "# Filename\n",
    "filename = 'grayImage.jpg'\n",
    "\n",
    "# Using cv2.imwrite() method to save the image\n",
    "cv2.imwrite(filename, img)\n",
    "\n",
    "# List files and directories\n",
    "print(\"After saving image:\")\n",
    "print(os.listdir(directory))\n",
    "\n",
    "print('Successfully saved')\n",
    "\n"
   ]
  },
  {
   "cell_type": "code",
   "execution_count": null,
   "id": "eb6dbc3a-02e6-4cfb-a029-387b816b2360",
   "metadata": {},
   "outputs": [],
   "source": []
  }
 ],
 "metadata": {
  "kernelspec": {
   "display_name": "Python [conda env:base] *",
   "language": "python",
   "name": "conda-base-py"
  },
  "language_info": {
   "codemirror_mode": {
    "name": "ipython",
    "version": 3
   },
   "file_extension": ".py",
   "mimetype": "text/x-python",
   "name": "python",
   "nbconvert_exporter": "python",
   "pygments_lexer": "ipython3",
   "version": "3.12.7"
  }
 },
 "nbformat": 4,
 "nbformat_minor": 5
}
