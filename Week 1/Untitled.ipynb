{
 "cells": [
  {
   "cell_type": "code",
   "execution_count": null,
   "id": "309250ca-22ec-4ee6-943e-7bbb3dec5b34",
   "metadata": {},
   "outputs": [],
   "source": [
    "# Importing the OpenCV library\n",
    "import cv2\n",
    "\n",
    "# path\n",
    "path = r'C:\\Users\\maxos\\Pictures\\Screenshots\\Screenshot 2024-12-24 235338.png'\n",
    "\n",
    "# Reading an image in grayscale mode\n",
    "img = cv2.imread(path, 0)\n",
    "\n",
    "# Window name in which image is displayed\n",
    "window_name = 'VR Headset'\n",
    "\n",
    "# Display image\n",
    "cv2.imshow(window_name, img)\n",
    "\n",
    "# Hold the window\n",
    "cv2.waitKey(0)\n",
    "\n",
    "# Remove/delete created GUI window from screen and memory\n",
    "cv2.destroyAllWindows()\n"
   ]
  },
  {
   "cell_type": "code",
   "execution_count": null,
   "id": "623b5f7c-2544-435a-90b3-afec43cab199",
   "metadata": {},
   "outputs": [],
   "source": []
  }
 ],
 "metadata": {
  "kernelspec": {
   "display_name": "Python [conda env:base] *",
   "language": "python",
   "name": "conda-base-py"
  },
  "language_info": {
   "codemirror_mode": {
    "name": "ipython",
    "version": 3
   },
   "file_extension": ".py",
   "mimetype": "text/x-python",
   "name": "python",
   "nbconvert_exporter": "python",
   "pygments_lexer": "ipython3",
   "version": "3.12.7"
  }
 },
 "nbformat": 4,
 "nbformat_minor": 5
}
