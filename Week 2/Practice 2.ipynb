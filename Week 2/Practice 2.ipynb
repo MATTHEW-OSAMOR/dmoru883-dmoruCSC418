{
 "cells": [
  {
   "cell_type": "code",
   "execution_count": null,
   "id": "2e26b985-060a-4bd9-b8e2-17bf4cf41fce",
   "metadata": {},
   "outputs": [],
   "source": [
    "# A program to illustrate arithmetic operation of addition\n",
    "\n",
    "# organizing imports\n",
    "import cv2\n",
    "\n",
    "# path to input images\n",
    "image1 = cv2.imread('Monkey.png')\n",
    "image2 = cv2.imread('Goat.png')\n",
    "\n",
    "# resize images\n",
    "image1 = cv2.resize(image1, (500, 400))\n",
    "image2 = cv2.resize(image2, (500, 400))\n",
    "\n",
    "# cv2.addWeighted with applied parameters\n",
    "addImage = cv2.addWeighted(image1, 0.5, image2, 0.6, 0)\n",
    "\n",
    "# window showing output image\n",
    "cv2.imshow('Weighted Image', addImage)\n",
    "\n",
    "# De-allocate any associated memory usage\n",
    "if cv2.waitKey(0) & 0xff == 27:\n",
    "    cv2.destroyAllWindows()\n"
   ]
  },
  {
   "cell_type": "code",
   "execution_count": null,
   "id": "91604ebf-5083-4c25-8fda-c7538d626f5e",
   "metadata": {},
   "outputs": [],
   "source": []
  }
 ],
 "metadata": {
  "kernelspec": {
   "display_name": "Python [conda env:base] *",
   "language": "python",
   "name": "conda-base-py"
  },
  "language_info": {
   "codemirror_mode": {
    "name": "ipython",
    "version": 3
   },
   "file_extension": ".py",
   "mimetype": "text/x-python",
   "name": "python",
   "nbconvert_exporter": "python",
   "pygments_lexer": "ipython3",
   "version": "3.12.7"
  }
 },
 "nbformat": 4,
 "nbformat_minor": 5
}
